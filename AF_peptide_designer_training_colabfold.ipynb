{
 "cells": [
  {
   "cell_type": "code",
   "execution_count": 28,
   "id": "6e2d8004-8040-4688-a9e5-d82f342b07ac",
   "metadata": {
    "tags": []
   },
   "outputs": [
    {
     "name": "stdout",
     "output_type": "stream",
     "text": [
      "True\n"
     ]
    }
   ],
   "source": [
    "from __future__ import print_function\n",
    "import argparse\n",
    "import os\n",
    "import random\n",
    "import torch\n",
    "import torch.nn as nn\n",
    "import torch.nn.parallel\n",
    "import torch.backends.cudnn as cudnn\n",
    "import torch.optim as optim\n",
    "import torch.utils.data\n",
    "import numpy as np\n",
    "import re\n",
    "from string import ascii_uppercase, ascii_lowercase\n",
    "from math import sqrt\n",
    "import time\n",
    "import warnings\n",
    "import sys\n",
    "import warnings\n",
    "warnings.simplefilter(action='ignore', category=FutureWarning)\n",
    "\n",
    "from colabfold.download import download_alphafold_params, default_data_dir\n",
    "from colabfold.utils import setup_logging\n",
    "from colabfold.batch import get_queries, run, set_model_type\n",
    "\n",
    "from colabfold.colabfold import plot_protein\n",
    "from pathlib import Path\n",
    "\n",
    "def fxn():\n",
    "    warnings.warn(\"deprecated\", DeprecationWarning)\n",
    "\n",
    "with warnings.catch_warnings():\n",
    "    warnings.simplefilter(\"ignore\")\n",
    "    fxn()\n",
    "    \n",
    "print(torch.cuda.is_available())"
   ]
  },
  {
   "cell_type": "code",
   "execution_count": 29,
   "id": "17d8d9bb-0cb1-4cea-9138-3e257bede289",
   "metadata": {
    "tags": []
   },
   "outputs": [
    {
     "name": "stdout",
     "output_type": "stream",
     "text": [
      "worked\n"
     ]
    }
   ],
   "source": [
    "import jax\n",
    "import jax.numpy as jnp\n",
    "import os\n",
    "#os.environ[\"CUDA_VISIBLE_DEVICES\"] = \"0\"\n",
    "\n",
    "from colabdesign import mk_af_model\n",
    "\n",
    "import pandas as pd\n",
    "import matplotlib.pyplot as plt\n",
    "#import seaborn as sns\n",
    "import numpy as np\n",
    "import pickle\n",
    "from tqdm.notebook import tqdm\n",
    "import glob\n",
    "\n",
    "from colabdesign.af.alphafold.common import protein\n",
    "from colabdesign.shared.protein import renum_pdb_str\n",
    "from colabdesign.af.alphafold.common import residue_constants\n",
    "\n",
    "from soluble_tools import *\n",
    "print('worked')"
   ]
  },
  {
   "cell_type": "code",
   "execution_count": 30,
   "id": "d9ee9ec3-ef3d-4600-b8ff-1e409084e94b",
   "metadata": {
    "tags": []
   },
   "outputs": [
    {
     "name": "stdout",
     "output_type": "stream",
     "text": [
      "gpu\n"
     ]
    }
   ],
   "source": [
    "from jax.lib import xla_bridge\n",
    "print(xla_bridge.get_backend().platform)"
   ]
  },
  {
   "cell_type": "code",
   "execution_count": 31,
   "id": "55e35a56-faca-4218-93ec-5553e125aa38",
   "metadata": {
    "tags": []
   },
   "outputs": [],
   "source": [
    "import os\n",
    "from colabdesign import mk_afdesign_model, clear_mem\n",
    "import numpy as np"
   ]
  },
  {
   "cell_type": "code",
   "execution_count": 75,
   "id": "aae13345-c93f-41e8-b800-b53b658df04d",
   "metadata": {
    "tags": []
   },
   "outputs": [
    {
     "name": "stdout",
     "output_type": "stream",
     "text": [
      "Random Seed:  999\n",
      "Generator(\n",
      "  (main): Sequential(\n",
      "    (0): ConvTranspose2d(100, 512, kernel_size=(5, 5), stride=(1, 1), bias=False)\n",
      "    (1): LeakyReLU(negative_slope=0.01)\n",
      "    (2): ConvTranspose2d(512, 256, kernel_size=(5, 5), stride=(2, 2), padding=(1, 1), bias=False)\n",
      "    (3): LeakyReLU(negative_slope=0.01)\n",
      "    (4): ConvTranspose2d(256, 128, kernel_size=(4, 3), stride=(1, 2), padding=(0, 1), bias=False)\n",
      "    (5): LeakyReLU(negative_slope=0.01)\n",
      "    (6): ConvTranspose2d(128, 64, kernel_size=(4, 3), stride=(1, 2), padding=(0, 1), bias=False)\n",
      "    (7): LeakyReLU(negative_slope=0.01)\n",
      "    (8): ConvTranspose2d(64, 1, kernel_size=(4, 3), stride=(1, 2), padding=(0, 1), bias=False)\n",
      "    (9): Tanh()\n",
      "  )\n",
      ")\n"
     ]
    }
   ],
   "source": [
    "\n",
    "# Set random seed for reproducibility\n",
    "manualSeed = 999\n",
    "print(\"Random Seed: \", manualSeed)\n",
    "random.seed(manualSeed)\n",
    "torch.manual_seed(manualSeed)\n",
    "\n",
    "\n",
    "# Number of workers for dataloader\n",
    "workers = 2\n",
    "\n",
    "# Batch size during training\n",
    "batch_size = 128\n",
    "\n",
    "# Spatial size of training images. All images will be resized to this\n",
    "#   size using a transformer.\n",
    "image_size = 64\n",
    "\n",
    "# Number of channels in the training images. For color images this is 3\n",
    "nc = 1\n",
    "\n",
    "# Size of z latent vector (i.e. size of generator input)\n",
    "nz = 100\n",
    "\n",
    "# Size of feature maps in generator\n",
    "ngf = 64\n",
    "\n",
    "# Size of feature maps in discriminator\n",
    "ndf = 64\n",
    "\n",
    "# Number of training epochs\n",
    "num_epochs = 1000\n",
    "\n",
    "# Learning rate for optimizers\n",
    "lr = 0.0001\n",
    "\n",
    "# Beta1 hyperparam for Adam optimizers\n",
    "beta1 = 0.5\n",
    "\n",
    "# Number of GPUs available. Use 0 for CPU mode.\n",
    "ngpu = 1\n",
    "\n",
    "\n",
    "# custom weights initialization called on netG and netD\n",
    "def weights_init(m):\n",
    "    classname = m.__class__.__name__\n",
    "    if classname.find('Conv') != -1:\n",
    "        nn.init.normal_(m.weight.data, 0.0, 0.02)\n",
    "    elif classname.find('BatchNorm') != -1:\n",
    "        nn.init.normal_(m.weight.data, 1.0, 0.02)\n",
    "        nn.init.constant_(m.bias.data, 0)\n",
    "\n",
    "\n",
    "class Generator(nn.Module):\n",
    "    def __init__(self, ngpu):\n",
    "        super(Generator, self).__init__()\n",
    "        self.ngpu = ngpu\n",
    "        self.main = nn.Sequential(\n",
    "            # input is Z, going into a convolution\n",
    "            nn.ConvTranspose2d( nz, ngf * 8, 5, 1, 0, bias=False),\n",
    "            nn.LeakyReLU(),\n",
    "            # state size. (ngf*8) x 5 x 5\n",
    "            nn.ConvTranspose2d(ngf * 8, ngf * 4, 5, 2, 1, bias=False),\n",
    "            nn.LeakyReLU(),\n",
    "            # state size. (ngf*4) x 10 x 10\n",
    "            nn.ConvTranspose2d( ngf * 4, ngf * 2, (4,3), (1,2), (0,1), bias=False),\n",
    "            nn.LeakyReLU(),\n",
    "            # state size. (ngf*2) x 10 x 20\n",
    "            nn.ConvTranspose2d( ngf * 2, ngf, (4,3), (1,2), (0,1), bias=False),\n",
    "            nn.LeakyReLU(),\n",
    "            # state size. (ngf) x 20 x 40\n",
    "            nn.ConvTranspose2d( ngf, nc, (4,3), (1,2), (0,1), bias=False),\n",
    "            # state size. (nc) x 20 x 80\n",
    "            nn.Tanh()\n",
    "        )\n",
    "\n",
    "    def forward(self, input):\n",
    "        return self.main(input)\n",
    "\n",
    "\n",
    "device = torch.device(\"cuda\" if (torch.cuda.is_available() and ngpu > 0) else \"cpu\")\n",
    "netG = Generator(ngpu).to(device)\n",
    "\n",
    "\n",
    "# Apply the weights_init function to randomly initialize all weights\n",
    "#  to mean=0, stdev=0.02.\n",
    "netG.apply(weights_init)\n",
    "\n",
    "# Print the model\n",
    "print(netG)\n",
    "\n",
    "# Initialize BCELoss function\n",
    "criterion = nn.MSELoss()\n",
    "\n",
    "# Create batch of latent vectors that we will use to visualize\n",
    "#  the progression of the generator\n",
    "fixed_noise = torch.randn(64, nz, 1, 1, device=device)\n",
    "\n",
    "# Establish convention for real and fake labels during training\n",
    "real_label = 1.\n",
    "fake_label = 0.\n",
    "\n",
    "# Setup Adam optimizers for both G and D\n",
    "optimizerG = optim.Adam(netG.parameters(), lr=lr, weight_decay=0)\n",
    "#optimizerG = torch.optim.Adagrad(netG.parameters(), lr=0.01)"
   ]
  },
  {
   "cell_type": "code",
   "execution_count": 41,
   "id": "7fe63944-2022-4c38-ba5a-875267ba7d40",
   "metadata": {
    "tags": []
   },
   "outputs": [],
   "source": [
    "aa = 'A R N D C E Q G H I L K M F P S T W Y V'\n",
    "aminoacid_list = aa.split(' ')\n",
    "a_dict={}\n",
    "for i, aaa in enumerate(aminoacid_list):\n",
    "  a_dict[aaa]=i\n",
    "\n",
    "\n",
    "def numpy_to_seq(array, seq_len, oligomer=1):\n",
    "  sequence = []\n",
    "  receptor = ''\n",
    "  array = array.cpu().detach().numpy()\n",
    "  for i in array:\n",
    "    seq=''\n",
    "    array_n = i[0]\n",
    "    for i in array_n.T:\n",
    "      z = np.argmax(i)\n",
    "      seq+=aminoacid_list[z]\n",
    "    seq = seq[:seq_len]\n",
    "    sequence.append(seq)\n",
    "  return sequence"
   ]
  },
  {
   "cell_type": "code",
   "execution_count": 42,
   "id": "b723eacb-0234-4534-bb16-43380398212e",
   "metadata": {
    "tags": []
   },
   "outputs": [],
   "source": [
    "def seq_to_tensor(sequence_list):\n",
    "    tensor_seq = torch.zeros((len(sequence_list), 1, 20, 81))\n",
    "    for seqn, seq in enumerate(sequence_list):\n",
    "        for x,i in enumerate(seq):\n",
    "            tensor_seq[seqn,0,aminoacid_list.index(i),x] = 1\n",
    "    return tensor_seq"
   ]
  },
  {
   "cell_type": "code",
   "execution_count": 43,
   "id": "1e14375d-527c-4c4e-a26d-4f1dff10447e",
   "metadata": {
    "tags": []
   },
   "outputs": [],
   "source": [
    "import glob\n",
    "from scipy.spatial import distance_matrix\n",
    "\n",
    "import os\n",
    "import sys\n",
    "import urllib.request\n",
    "\n",
    "import Bio\n",
    "import Bio.PDB\n",
    "import Bio.SeqRecord\n",
    "\n",
    "\n",
    "def read_pdb(pdbcode, pdbfilenm):\n",
    "    \"\"\"\n",
    "    Read a PDB structure from a file.\n",
    "    :param pdbcode: A PDB ID string\n",
    "    :param pdbfilenm: The PDB file\n",
    "    :return: a Bio.PDB.Structure object or None if something went wrong\n",
    "    \"\"\"\n",
    "    try:\n",
    "        pdbparser = Bio.PDB.PDBParser(QUIET=True)   # suppress PDBConstructionWarning\n",
    "        struct = pdbparser.get_structure(pdbcode, pdbfilenm)\n",
    "        return struct\n",
    "    except Exception as err:\n",
    "        print(str(err), file=sys.stderr)\n",
    "        return None\n",
    "\n",
    "\n",
    "def define_distance_matrices(epoch):\n",
    "    #selections_a = [['A', '46'], ['A', '237'], ['A', '241'], ['A', '245'], ['A', '248'], ['A', '249']]\n",
    "    #numbers_a = [int(x[1]) for x in selections_a]\n",
    "    numbers_a = [13, 14, 174, 175, 178, 179, 182, 196, 199, 200, 203, 205, 260]\n",
    "    #numbers_a = [int(x) for x in numbers_a]\n",
    "    \n",
    "    selections_b = [['B', '93'], ['B', '94'], ['B', '97'], ['B', '151'], ['B', '153']]\n",
    "    numbers_b = [int(x[1]) for x in selections_b]\n",
    "    \n",
    "    mins_list = []\n",
    "    \n",
    "    for i in glob.glob(f'results/tmp_{epoch}_*.pdb'):\n",
    "        pdb_5f1c = read_pdb('5f1c', i)\n",
    "    \n",
    "        ChainA = [Chain for Chain in pdb_5f1c.get_chains() if Chain.__repr__() == '<Chain id=A>'][0]\n",
    "        calphas_A = [atom for atom in ChainA.get_atoms() if \"CA\" in atom.get_name()]\n",
    "        calphas_A_coord = [atom.get_coord() for atom in calphas_A if atom.get_parent().get_full_id()[3][1] in numbers_a]\n",
    "        \n",
    "        #ChainB = [ Chain for Chain in pdb_5f1c.get_chains() if Chain.__repr__() == '<Chain id=B>'][0]\n",
    "        #calphas_B = [atom for atom in ChainB.get_atoms() if \"CA\" in atom.get_name()]\n",
    "        #calphas_B_coord = [atom.get_coord() for atom in calphas_B if atom.get_parent().get_full_id()[3][1] in numbers_b]\n",
    "        \n",
    "        target = calphas_A_coord #+ calphas_B_coord\n",
    "        \n",
    "        center = sum(target)/len(target)\n",
    "        \n",
    "        ChainC = [ Chain for Chain in pdb_5f1c.get_chains() if Chain.__repr__() == '<Chain id=B>'][0]\n",
    "        calphas_C_coord = [atom.get_coord() for atom in ChainC.get_atoms() if \"CA\" in atom.get_name()]\n",
    "        \n",
    "        dist = distance_matrix(target, calphas_C_coord)\n",
    "        mins = np.array([np.min(x) for x in dist.T])\n",
    "        \n",
    "        mins_list.append(mins)\n",
    "    \n",
    "    mins_list = np.array(mins_list)\n",
    "    target_list = np.ones(mins_list.shape)\n",
    "    \n",
    "    return torch.tensor(target_list).float(), torch.tensor(mins_list).float()"
   ]
  },
  {
   "cell_type": "code",
   "execution_count": 63,
   "id": "e48fd4aa-0758-4046-b1bc-51c1352d0a01",
   "metadata": {
    "tags": []
   },
   "outputs": [],
   "source": [
    "pred_loss, com_loss, plddt_loss = take_loss(0, 20)"
   ]
  },
  {
   "cell_type": "code",
   "execution_count": 66,
   "id": "b5142488-af29-4099-857a-5ae6465bc57f",
   "metadata": {
    "tags": []
   },
   "outputs": [
    {
     "data": {
      "text/plain": [
       "20"
      ]
     },
     "execution_count": 66,
     "metadata": {},
     "output_type": "execute_result"
    }
   ],
   "source": [
    "len(plddt_loss)"
   ]
  },
  {
   "cell_type": "code",
   "execution_count": 77,
   "id": "94e9744c-d709-4bad-9fd9-1ac49c92d330",
   "metadata": {
    "tags": []
   },
   "outputs": [],
   "source": [
    "from scipy.spatial import distance_matrix\n",
    "\n",
    "def take_loss(epoch, seq_len):\n",
    "    all_loss = [take_loss1(i, [13, 14, 21, 175, 179, 196, 200]) for i in glob.glob(f'results/tmp_{epoch}_*.pdb')]\n",
    "    all_plddt = [read_plldt(i) for i in glob.glob(f'results/tmp_{epoch}_*.pickle')]\n",
    "    \n",
    "    all_loss_t = normalize_dist(torch.tensor(all_loss))\n",
    "    plddt_loss_t = normalize_plddt(torch.tensor(all_plddt), lr=0.5)\n",
    "    return all_loss_t, plddt_loss_t, all_loss, all_plddt\n",
    "\n",
    "\n",
    "def take_loss_reverse(epoch, seq_len):\n",
    "    all_loss = [take_loss1(i, [11, 18, 193, 197, 213, 217, 221]) for i in glob.glob(f'results/tmp_reverse_{epoch}_*.pdb')]\n",
    "    all_plddt = [read_plldt(i) for i in glob.glob(f'results/tmp_reverse_{epoch}_*.pickle')]\n",
    "    \n",
    "    all_loss_t = normilize_dist_reverse(torch.tensor(all_loss))\n",
    "    plddt_loss_t = normalize_plddt(torch.tensor(all_plddt), lr=0.5)\n",
    "    return all_loss_t, plddt_loss_t, all_loss, all_plddt\n",
    "\n",
    "def normalize_dist(dist_tensor, lr=1, mini = 4, maxi = 20):\n",
    "    return 0.5-(dist_tensor-mini)/(maxi-mini)\n",
    "\n",
    "\n",
    "def normalize_plddt(dist_tensor, lr=0.5, mini = 4, maxi = 20):\n",
    "    return (0.5*lr)-(((dist_tensor-mini)/(maxi-mini))*lr)\n",
    "\n",
    "\n",
    "def normilize_dist_reverse(dist_tensor, lr=1, mini = 6, maxi = 35):\n",
    "    return (((dist_tensor-mini)/(maxi-mini))*lr)-(0.5*lr)\n",
    "\n",
    "\n",
    "def read_plldt(filename):\n",
    "    with open(filename, 'rb') as f:\n",
    "        x = pickle.load(f)\n",
    "    plddt = np.mean(x['plddt'][0][-20:])\n",
    "    return plddt\n",
    "\n",
    "\n",
    "def take_loss1(filename, numbers_a):\n",
    "  with open(filename) as ifile:\n",
    "      system = \"\".join([x for x in ifile])\n",
    "  system1 = system.split(\"\\n\")\n",
    "  system2 = []\n",
    "  for x in system1:\n",
    "    if x[:4] == 'ATOM':\n",
    "      system2.append(x)\n",
    "  CAS = [x for x in system2 if \"CA\" in x]\n",
    "  CAS = [x.split(' ') for x in CAS]\n",
    "  CAS = [[x for x in y if x!=''] for y in CAS ]\n",
    "  CAS_A = [x for x in CAS if x[4]=='B']\n",
    "  CAS_B = [x for x in CAS if x[4]=='A']\n",
    "  #numbers_a = [13, 14, 21, 175, 179, 196, 200]\n",
    "\n",
    "  CAS_A = np.array([np.array([float(x[6]), float(x[7]), float(x[8])]) for x in CAS_A])\n",
    "\n",
    "  CAS_B = np.array([np.array([float(x[6]), float(x[7]), float(x[8])]) for x in CAS_B])\n",
    "\n",
    "  CAS_B = np.array([CAS_B[i-1] for i in numbers_a])\n",
    "\n",
    "  #receptor_center = (sum([i for i in CAS_B]))/CAS_B.shape[0]\n",
    "  #peptide_center = (sum([i for i in CAS_A]))/CAS_A.shape[0]\n",
    "  #loss = sqrt(np.sum((peptide_center-receptor_center)**2))\n",
    "  return float(np.min(distance_matrix(CAS_A, CAS_B)))"
   ]
  },
  {
   "cell_type": "code",
   "execution_count": 76,
   "id": "4ec7379c-308f-47f4-899a-d7cea3acc638",
   "metadata": {
    "tags": []
   },
   "outputs": [],
   "source": [
    "def colabfold_predict(sequence, epoch, z, binder_len):\n",
    "    clear_mem()\n",
    "    af_model = mk_afdesign_model(protocol=\"binder\", use_templates=True)\n",
    "    af_model.prep_inputs(pdb_filename='custom_template/5ybf.pdb', chain=\"A\", binder_len=binder_len)\n",
    "    seq_ampa = sequence\n",
    "    af_model.set_seq(seq_ampa)\n",
    "    af_model.predict(num_recycles=3)\n",
    "\n",
    "    name = f'tmp_{epoch}_{z}'\n",
    "    pdbs = rank_and_write_pdb_predict(af_model, name='results/' + name)\n",
    "    with open('results/{name}.pickle'.format(name=name), 'wb') as handle:\n",
    "        pickle.dump(af_model.aux['all'], handle, protocol=pickle.HIGHEST_PROTOCOL)\n",
    "        \n",
    "\n",
    "def colabfold_predict_reverse(sequence, epoch, z, binder_len):\n",
    "    clear_mem()\n",
    "    af_model = mk_afdesign_model(protocol=\"binder\", use_templates=True)\n",
    "    af_model.prep_inputs(pdb_filename='custom_template/5kcj.pdb', chain=\"A\", binder_len=binder_len)\n",
    "    seq_ampa = sequence\n",
    "    af_model.set_seq(seq_ampa)\n",
    "    af_model.predict(num_recycles=3)\n",
    "\n",
    "    name = f'tmp_reverse_{epoch}_{z}'\n",
    "    pdbs = rank_and_write_pdb_predict(af_model, name='results/' + name)\n",
    "    with open('results/{name}.pickle'.format(name=name), 'wb') as handle:\n",
    "        pickle.dump(af_model.aux['all'], handle, protocol=pickle.HIGHEST_PROTOCOL)"
   ]
  },
  {
   "cell_type": "code",
   "execution_count": 86,
   "id": "c1737435-7ce4-4eca-80d5-cb52b07bdf86",
   "metadata": {
    "tags": []
   },
   "outputs": [],
   "source": [
    "import pandas as pd\n",
    "\n",
    "def training(num_epochs=10, num_seqs=20, peptide_length=20):\n",
    "    # Training Loop\n",
    "    for i in glob.glob('results/*'):\n",
    "        os.remove(i)\n",
    "    sequences = []\n",
    "    G_losses = []\n",
    "    COM = []\n",
    "    epoch_nums=[]\n",
    "    plddt = []\n",
    "\n",
    "    COM_reverse = []\n",
    "    plddt_reverse = []\n",
    "    \n",
    "    print(\"Starting Training Loop...\")\n",
    "    # For each epoch\n",
    "    netG.apply(weights_init)\n",
    "    fake_input = torch.randn(num_seqs, nz, 1, 1, device=device)\n",
    "    for epoch in range(num_epochs):\n",
    "        start = time.time()\n",
    "        # For each batch in the dataloader\n",
    "        optimizerG.zero_grad()\n",
    "        fake_output = netG(fake_input)\n",
    "        #print(fake)\n",
    "        fake = numpy_to_seq(fake_output, peptide_length)\n",
    "        \n",
    "        sequences+=[x.split(':')[-1] for x in fake]\n",
    "        for z, x in enumerate(fake):\n",
    "            colabfold_predict(x, epoch, z, peptide_length)\n",
    "            colabfold_predict_reverse(x, epoch, z, peptide_length)\n",
    "        # print('time:', time.time() - start)\n",
    "        \n",
    "        one_hot_encode_reversed = seq_to_tensor(fake)\n",
    "        # Calculate G's loss based on this output\n",
    "        target_loss, plddt_target_loss, target_com_loss, target_plddt_loss = take_loss(epoch, num_seqs)\n",
    "        target_seq_grad = one_hot_encode_reversed*target_loss.reshape((num_seqs,1,1,1))*(lr*2.5/10)\n",
    "        #target_plldt_grad = one_hot_encode_reversed*plddt_target_loss.reshape((num_seqs,1,1,1))*(lr*2.5/10)\n",
    "        \n",
    "        err_target = criterion(target_seq_grad.to(device), fake_output)\n",
    "        #err_target_plddt = criterion(target_plldt_grad.to(device), fake_output)\n",
    "        \n",
    "        reverse_loss, plddt_reverse_loss, reverse_com_loss, reverse_plddt_loss = take_loss_reverse(epoch, num_seqs)\n",
    "        reverse_seq_grad = one_hot_encode_reversed*reverse_loss.reshape((num_seqs,1,1,1))*(lr*2.5/10)*0.75\n",
    "        #reverse_plldt_grad = seq_to_tensor(fake)*plddt_reverse_loss.reshape((num_seqs,1,1,1))*(lr*2.5/10)        \n",
    "        \n",
    "        err_reverse = criterion(reverse_seq_grad.to(device), fake_output)\n",
    "        #err_reverse_plddt = criterion(reverse_plldt_grad.to(device), fake_output)\n",
    "        \n",
    "        errF = err_target + err_reverse # + err_reverse_plddt + err_target_plddt\n",
    "        errF.backward()\n",
    "        \n",
    "        optimizerG.step()\n",
    "        # Calculate gradients for G\n",
    "\n",
    "        # Output training stats\n",
    "        print(f'{epoch + 1}/{num_epochs}, {lr}, {errF.item()}, {target_loss}, {target_com_loss}, {sequences[-num_seqs:]}')\n",
    "        # tables.append(fake.detach().numpy()[0][0])\n",
    "        epoch_nums+=[f'{epoch}_{z}' for z, x in enumerate(fake)]\n",
    "        # Save Losses for plotting later\n",
    "        G_losses.append(errF.item())\n",
    "        COM+=[x for x in target_com_loss]\n",
    "        plddt+=[x for x in target_plddt_loss]\n",
    "        COM_reverse+=[x for x in reverse_com_loss]\n",
    "        plddt_reverse+=[x for x in reverse_plddt_loss]\n",
    "        #print(epoch_nums, sequences, COM, plddt)\n",
    "        df = {'id': epoch_nums,\n",
    "              'sequence': sequences,\n",
    "              'COM': COM,\n",
    "              'plddt': plddt,\n",
    "              'COM_reverse': COM_reverse,\n",
    "              'plddt_reverse': plddt_reverse}\n",
    "        df = pd.DataFrame(df)\n",
    "        df.to_csv('Khondamir_results_min_dist_reversed.csv')\n",
    "        \n"
   ]
  },
  {
   "cell_type": "code",
   "execution_count": null,
   "id": "b5a733f9-1dfe-4fc5-a826-e0ffb63c325d",
   "metadata": {
    "tags": []
   },
   "outputs": [
    {
     "name": "stdout",
     "output_type": "stream",
     "text": [
      "Starting Training Loop...\n",
      "predict models [0] recycles 3 hard 1 soft 0 temp 1 loss 5.51 i_con 5.45 plddt 0.40 ptm 0.86 i_ptm 0.11\n",
      "predict models [0] recycles 3 hard 1 soft 0 temp 1 loss 5.94 i_con 5.88 plddt 0.40 ptm 0.85 i_ptm 0.12\n",
      "predict models [0] recycles 3 hard 1 soft 0 temp 1 loss 5.76 i_con 5.70 plddt 0.38 ptm 0.86 i_ptm 0.11\n",
      "predict models [0] recycles 3 hard 1 soft 0 temp 1 loss 5.57 i_con 5.51 plddt 0.33 ptm 0.85 i_ptm 0.16\n",
      "predict models [0] recycles 3 hard 1 soft 0 temp 1 loss 5.20 i_con 5.15 plddt 0.40 ptm 0.86 i_ptm 0.21\n",
      "predict models [0] recycles 3 hard 1 soft 0 temp 1 loss 5.79 i_con 5.73 plddt 0.40 ptm 0.85 i_ptm 0.15\n",
      "predict models [0] recycles 3 hard 1 soft 0 temp 1 loss 6.27 i_con 6.20 plddt 0.39 ptm 0.86 i_ptm 0.12\n",
      "predict models [0] recycles 3 hard 1 soft 0 temp 1 loss 5.72 i_con 5.66 plddt 0.36 ptm 0.85 i_ptm 0.13\n",
      "predict models [0] recycles 3 hard 1 soft 0 temp 1 loss 5.78 i_con 5.73 plddt 0.42 ptm 0.86 i_ptm 0.12\n",
      "predict models [0] recycles 3 hard 1 soft 0 temp 1 loss 5.99 i_con 5.93 plddt 0.38 ptm 0.85 i_ptm 0.13\n",
      "predict models [0] recycles 3 hard 1 soft 0 temp 1 loss 4.75 i_con 4.68 plddt 0.31 ptm 0.86 i_ptm 0.22\n",
      "predict models [0] recycles 3 hard 1 soft 0 temp 1 loss 5.62 i_con 5.55 plddt 0.33 ptm 0.85 i_ptm 0.13\n",
      "predict models [0] recycles 3 hard 1 soft 0 temp 1 loss 6.28 i_con 6.22 plddt 0.41 ptm 0.86 i_ptm 0.10\n",
      "predict models [0] recycles 3 hard 1 soft 0 temp 1 loss 5.45 i_con 5.38 plddt 0.36 ptm 0.85 i_ptm 0.15\n",
      "predict models [0] recycles 3 hard 1 soft 0 temp 1 loss 6.83 i_con 6.78 plddt 0.52 ptm 0.86 i_ptm 0.10\n",
      "predict models [0] recycles 3 hard 1 soft 0 temp 1 loss 6.45 i_con 6.40 plddt 0.49 ptm 0.85 i_ptm 0.11\n",
      "predict models [0] recycles 3 hard 1 soft 0 temp 1 loss 5.34 i_con 5.28 plddt 0.35 ptm 0.86 i_ptm 0.17\n",
      "predict models [0] recycles 3 hard 1 soft 0 temp 1 loss 5.78 i_con 5.72 plddt 0.38 ptm 0.85 i_ptm 0.14\n",
      "predict models [0] recycles 3 hard 1 soft 0 temp 1 loss 6.64 i_con 6.60 plddt 0.55 ptm 0.86 i_ptm 0.10\n",
      "predict models [0] recycles 3 hard 1 soft 0 temp 1 loss 5.87 i_con 5.82 plddt 0.48 ptm 0.85 i_ptm 0.13\n",
      "1/100, 0.0001, 7.292868394870311e-05, tensor([-0.8339, -1.2501,  0.2460, -0.1616,  0.1665, -1.4085, -1.6117, -0.9734,\n",
      "        -0.9956,  0.1598]), [25.342165515204105, 32.00167603423296, 8.063655994646597, 14.586182708303086, 9.336297660207713, 34.535908616974304, 37.78764205398373, 27.575001450589266, 27.930356979458747, 9.443924502027746], ['LDCGHHIKPEQEIIEGEEEH', 'CHLIQSGIMKDLHGGIGHCH', 'MMFFFQDILEMIIFEPELLL', 'IDCHIHTMLIKHGKILLMQL', 'HLCMHPEQEGGGGKDGLQRL', 'GLLMQGDETPHEHFIHTLCH', 'LHQHIPGLTTLIKFCIQMCG', 'CLCIQCGKKEGGIIGLMLMI', 'KDKLGLDIHIIIGIEHKLLL', 'LPNLHLCKRMHKIFIGMHFI']\n",
      "predict models [0] recycles 3 hard 1 soft 0 temp 1 loss 5.05 i_con 4.98 plddt 0.38 ptm 0.86 i_ptm 0.20\n",
      "predict models [0] recycles 3 hard 1 soft 0 temp 1 loss 5.44 i_con 5.38 plddt 0.39 ptm 0.85 i_ptm 0.14\n",
      "predict models [0] recycles 3 hard 1 soft 0 temp 1 loss 5.60 i_con 5.54 plddt 0.38 ptm 0.86 i_ptm 0.15\n",
      "predict models [0] recycles 3 hard 1 soft 0 temp 1 loss 6.12 i_con 6.06 plddt 0.39 ptm 0.85 i_ptm 0.11\n",
      "predict models [0] recycles 3 hard 1 soft 0 temp 1 loss 4.96 i_con 4.89 plddt 0.33 ptm 0.86 i_ptm 0.20\n",
      "predict models [0] recycles 3 hard 1 soft 0 temp 1 loss 5.76 i_con 5.70 plddt 0.37 ptm 0.85 i_ptm 0.13\n",
      "predict models [0] recycles 3 hard 1 soft 0 temp 1 loss 5.20 i_con 5.13 plddt 0.32 ptm 0.86 i_ptm 0.16\n",
      "predict models [0] recycles 3 hard 1 soft 0 temp 1 loss 6.08 i_con 6.02 plddt 0.37 ptm 0.85 i_ptm 0.12\n",
      "predict models [0] recycles 3 hard 1 soft 0 temp 1 loss 5.74 i_con 5.68 plddt 0.41 ptm 0.86 i_ptm 0.11\n",
      "predict models [0] recycles 3 hard 1 soft 0 temp 1 loss 6.17 i_con 6.11 plddt 0.39 ptm 0.85 i_ptm 0.11\n",
      "predict models [0] recycles 3 hard 1 soft 0 temp 1 loss 5.76 i_con 5.69 plddt 0.32 ptm 0.86 i_ptm 0.10\n",
      "predict models [0] recycles 3 hard 1 soft 0 temp 1 loss 6.26 i_con 6.20 plddt 0.37 ptm 0.85 i_ptm 0.12\n",
      "predict models [0] recycles 3 hard 1 soft 0 temp 1 loss 5.41 i_con 5.34 plddt 0.35 ptm 0.86 i_ptm 0.12\n",
      "predict models [0] recycles 3 hard 1 soft 0 temp 1 loss 5.60 i_con 5.53 plddt 0.34 ptm 0.85 i_ptm 0.13\n",
      "predict models [0] recycles 3 hard 1 soft 0 temp 1 loss 5.59 i_con 5.52 plddt 0.38 ptm 0.86 i_ptm 0.18\n",
      "predict models [0] recycles 3 hard 1 soft 0 temp 1 loss 5.66 i_con 5.60 plddt 0.39 ptm 0.85 i_ptm 0.15\n",
      "predict models [0] recycles 3 hard 1 soft 0 temp 1 loss 5.07 i_con 5.01 plddt 0.34 ptm 0.86 i_ptm 0.20\n",
      "predict models [0] recycles 3 hard 1 soft 0 temp 1 loss 5.15 i_con 5.09 plddt 0.35 ptm 0.85 i_ptm 0.21\n",
      "predict models [0] recycles 3 hard 1 soft 0 temp 1 loss 5.22 i_con 5.16 plddt 0.33 ptm 0.86 i_ptm 0.21\n",
      "predict models [0] recycles 3 hard 1 soft 0 temp 1 loss 5.80 i_con 5.74 plddt 0.36 ptm 0.85 i_ptm 0.14\n",
      "2/100, 0.0001, 3.2466261473018676e-05, tensor([ 0.2766,  0.1975, -0.7813,  0.1164, -1.4948,  0.1501,  0.2011,  0.0563,\n",
      "         0.0669, -1.4168]), [7.573951214524688, 8.84058872474, 24.501012897429366, 10.137233646315943, 35.917006584625064, 9.598002760991475, 8.781858231604517, 11.099678734089558, 10.92895736106606, 34.66807956896372], ['LDCCEHDMYMQEELEDGEHS', 'CCLIQSGIMMDTEGMQGGCD', 'MMCFQQDILEMRIFEPELLR', 'LSCQEHTMLSIEGHITLGQN', 'HLCRNPEQEGGGLSDDLQRN', 'QNKCQGHETPHEHFIPTCCC', 'LHQHTPDSTTGINFRIQMCN', 'CLCDQDGKKTHGIIGLMMMD', 'KRKLECDIGCIFGREHKLLN', 'LPNCHCCQRMDKIFLTDHFN']\n",
      "predict models [0] recycles 3 hard 1 soft 0 temp 1 loss 5.25 i_con 5.19 plddt 0.39 ptm 0.86 i_ptm 0.18\n",
      "predict models [0] recycles 3 hard 1 soft 0 temp 1 loss 6.07 i_con 6.02 plddt 0.42 ptm 0.85 i_ptm 0.11\n",
      "predict models [0] recycles 3 hard 1 soft 0 temp 1 loss 5.46 i_con 5.39 plddt 0.36 ptm 0.86 i_ptm 0.15\n",
      "predict models [0] recycles 3 hard 1 soft 0 temp 1 loss 6.01 i_con 5.95 plddt 0.39 ptm 0.85 i_ptm 0.12\n",
      "predict models [0] recycles 3 hard 1 soft 0 temp 1 loss 5.90 i_con 5.84 plddt 0.44 ptm 0.86 i_ptm 0.11\n",
      "predict models [0] recycles 3 hard 1 soft 0 temp 1 loss 5.41 i_con 5.34 plddt 0.37 ptm 0.85 i_ptm 0.16\n",
      "predict models [0] recycles 3 hard 1 soft 0 temp 1 loss 5.52 i_con 5.45 plddt 0.34 ptm 0.86 i_ptm 0.13\n",
      "predict models [0] recycles 3 hard 1 soft 0 temp 1 loss 5.50 i_con 5.43 plddt 0.33 ptm 0.85 i_ptm 0.17\n",
      "predict models [0] recycles 3 hard 1 soft 0 temp 1 loss 5.73 i_con 5.67 plddt 0.39 ptm 0.86 i_ptm 0.12\n",
      "predict models [0] recycles 3 hard 1 soft 0 temp 1 loss 6.07 i_con 6.01 plddt 0.39 ptm 0.85 i_ptm 0.12\n",
      "predict models [0] recycles 3 hard 1 soft 0 temp 1 loss 5.55 i_con 5.49 plddt 0.38 ptm 0.86 i_ptm 0.10\n",
      "predict models [0] recycles 3 hard 1 soft 0 temp 1 loss 5.89 i_con 5.83 plddt 0.39 ptm 0.85 i_ptm 0.11\n",
      "predict models [0] recycles 3 hard 1 soft 0 temp 1 loss 5.34 i_con 5.28 plddt 0.37 ptm 0.86 i_ptm 0.18\n",
      "predict models [0] recycles 3 hard 1 soft 0 temp 1 loss 6.31 i_con 6.25 plddt 0.33 ptm 0.85 i_ptm 0.11\n",
      "predict models [0] recycles 3 hard 1 soft 0 temp 1 loss 5.34 i_con 5.27 plddt 0.38 ptm 0.86 i_ptm 0.20\n",
      "predict models [0] recycles 3 hard 1 soft 0 temp 1 loss 5.48 i_con 5.42 plddt 0.39 ptm 0.85 i_ptm 0.16\n",
      "predict models [0] recycles 3 hard 1 soft 0 temp 1 loss 5.30 i_con 5.23 plddt 0.35 ptm 0.86 i_ptm 0.13\n",
      "predict models [0] recycles 3 hard 1 soft 0 temp 1 loss 5.44 i_con 5.37 plddt 0.33 ptm 0.85 i_ptm 0.14\n",
      "predict models [0] recycles 3 hard 1 soft 0 temp 1 loss 7.14 i_con 7.13 plddt 0.84 ptm 0.86 i_ptm 0.09\n",
      "predict models [0] recycles 3 hard 1 soft 0 temp 1 loss 6.04 i_con 6.02 plddt 0.81 ptm 0.85 i_ptm 0.14\n",
      "3/100, 0.0001, 3.187009133398533e-05, tensor([-0.9521,  0.0526, -0.1151,  0.1348, -0.8838,  0.1974, -1.2714, -1.4755,\n",
      "        -0.9900, -1.3008]), [27.233046138836546, 11.15796764648473, 13.841897015944022, 9.84275073340781, 26.140967120594446, 8.842338265413735, 32.342355047213246, 35.60833820890832, 27.83981566030925, 32.81235025108686], ['LDCNEHKMLMQEELHDGGHS', 'QKFIDSGPMMFTEGMQGGCD', 'KICFRQMNLLMRIKEPELLR', 'LSFNEHTMLIKREHLTLGQN', 'LLHRNPPQEGGRLSCDLQGN', 'FKKREPHEQPHEHFITTGCD', 'LHMSTPDSTTGCNFLDQMCG', 'CLCDQDGKKPHRIIMYMMMD', 'KSKRECDTGIIRGQEAKLLR', 'LPFWHHLQRMMWIFLTMHFN']\n",
      "predict models [0] recycles 3 hard 1 soft 0 temp 1 loss 5.04 i_con 4.97 plddt 0.37 ptm 0.86 i_ptm 0.21\n",
      "predict models [0] recycles 3 hard 1 soft 0 temp 1 loss 5.84 i_con 5.78 plddt 0.40 ptm 0.85 i_ptm 0.12\n",
      "predict models [0] recycles 3 hard 1 soft 0 temp 1 loss 5.49 i_con 5.43 plddt 0.34 ptm 0.86 i_ptm 0.14\n",
      "predict models [0] recycles 3 hard 1 soft 0 temp 1 loss 5.95 i_con 5.89 plddt 0.35 ptm 0.85 i_ptm 0.12\n",
      "predict models [0] recycles 3 hard 1 soft 0 temp 1 loss 5.67 i_con 5.61 plddt 0.39 ptm 0.86 i_ptm 0.12\n",
      "predict models [0] recycles 3 hard 1 soft 0 temp 1 loss 5.14 i_con 5.07 plddt 0.34 ptm 0.85 i_ptm 0.18\n",
      "predict models [0] recycles 3 hard 1 soft 0 temp 1 loss 5.57 i_con 5.51 plddt 0.34 ptm 0.86 i_ptm 0.13\n",
      "predict models [0] recycles 3 hard 1 soft 0 temp 1 loss 5.57 i_con 5.50 plddt 0.33 ptm 0.85 i_ptm 0.16\n",
      "predict models [0] recycles 3 hard 1 soft 0 temp 1 loss 5.19 i_con 5.12 plddt 0.34 ptm 0.86 i_ptm 0.17\n",
      "predict models [0] recycles 3 hard 1 soft 0 temp 1 loss 5.94 i_con 5.88 plddt 0.39 ptm 0.85 i_ptm 0.12\n",
      "predict models [0] recycles 3 hard 1 soft 0 temp 1 loss 4.70 i_con 4.63 plddt 0.33 ptm 0.87 i_ptm 0.24\n",
      "predict models [0] recycles 3 hard 1 soft 0 temp 1 loss 5.76 i_con 5.69 plddt 0.35 ptm 0.85 i_ptm 0.15\n",
      "predict models [0] recycles 3 hard 1 soft 0 temp 1 loss 5.82 i_con 5.76 plddt 0.39 ptm 0.86 i_ptm 0.11\n",
      "predict models [0] recycles 3 hard 1 soft 0 temp 1 loss 6.16 i_con 6.10 plddt 0.37 ptm 0.85 i_ptm 0.12\n",
      "predict models [0] recycles 3 hard 1 soft 0 temp 1 loss 5.29 i_con 5.24 plddt 0.50 ptm 0.86 i_ptm 0.19\n",
      "predict models [0] recycles 3 hard 1 soft 0 temp 1 loss 5.79 i_con 5.75 plddt 0.53 ptm 0.85 i_ptm 0.15\n",
      "predict models [0] recycles 3 hard 1 soft 0 temp 1 loss 5.78 i_con 5.72 plddt 0.39 ptm 0.86 i_ptm 0.10\n",
      "predict models [0] recycles 3 hard 1 soft 0 temp 1 loss 5.35 i_con 5.28 plddt 0.36 ptm 0.85 i_ptm 0.16\n",
      "predict models [0] recycles 3 hard 1 soft 0 temp 1 loss 6.50 i_con 6.45 plddt 0.48 ptm 0.86 i_ptm 0.10\n",
      "predict models [0] recycles 3 hard 1 soft 0 temp 1 loss 5.35 i_con 5.29 plddt 0.42 ptm 0.85 i_ptm 0.18\n",
      "4/100, 0.0001, 2.1319543520803563e-05, tensor([ 0.1707, -0.0247, -0.1239,  0.2946,  0.1936,  0.1352, -0.9762, -1.6236,\n",
      "        -1.0650, -0.9646]), [9.269037490484111, 12.394486112784186, 13.98287667112887, 7.286941265030205, 8.901794032665551, 9.836450223530845, 27.61897076286515, 37.97706452584244, 29.040229028022488, 27.43282716017436], ['LICGEHIMLMGEELHDGGHS', 'QKFIDSGPMMFTEGMQGICT', 'KKFFSQMNLLMRIKEPELIR', 'LFFNEHHMLIKHGHLTLGQN', 'LLHRNPPQEGGFLSQDLIGL', 'FKKREGHEQPHECFLYSIFD', 'LFMSTPGSKTGCNFLDQGFG', 'CLFDQDGKKHHRIGHYMGMD', 'KKKSCCHTGIIRGQEAKIKS', 'LTFWHHLQRMHKPHLTMIFN']\n",
      "predict models [0] recycles 3 hard 1 soft 0 temp 1 loss 6.06 i_con 6.00 plddt 0.43 ptm 0.86 i_ptm 0.14\n",
      "predict models [0] recycles 3 hard 1 soft 0 temp 1 loss 6.21 i_con 6.15 plddt 0.46 ptm 0.85 i_ptm 0.12\n",
      "predict models [0] recycles 3 hard 1 soft 0 temp 1 loss 5.38 i_con 5.31 plddt 0.35 ptm 0.86 i_ptm 0.16\n",
      "predict models [0] recycles 3 hard 1 soft 0 temp 1 loss 5.88 i_con 5.82 plddt 0.35 ptm 0.85 i_ptm 0.12\n",
      "predict models [0] recycles 3 hard 1 soft 0 temp 1 loss 5.71 i_con 5.65 plddt 0.39 ptm 0.86 i_ptm 0.15\n",
      "predict models [0] recycles 3 hard 1 soft 0 temp 1 loss 5.66 i_con 5.60 plddt 0.39 ptm 0.85 i_ptm 0.15\n",
      "predict models [0] recycles 3 hard 1 soft 0 temp 1 loss 6.22 i_con 6.16 plddt 0.41 ptm 0.86 i_ptm 0.12\n",
      "predict models [0] recycles 3 hard 1 soft 0 temp 1 loss 5.84 i_con 5.78 plddt 0.38 ptm 0.85 i_ptm 0.13\n",
      "predict models [0] recycles 3 hard 1 soft 0 temp 1 loss 5.55 i_con 5.49 plddt 0.37 ptm 0.86 i_ptm 0.16\n",
      "predict models [0] recycles 3 hard 1 soft 0 temp 1 loss 5.91 i_con 5.85 plddt 0.38 ptm 0.85 i_ptm 0.14\n",
      "predict models [0] recycles 3 hard 1 soft 0 temp 1 loss 5.29 i_con 5.23 plddt 0.50 ptm 0.86 i_ptm 0.21\n",
      "predict models [0] recycles 3 hard 1 soft 0 temp 1 loss 5.00 i_con 4.94 plddt 0.47 ptm 0.86 i_ptm 0.25\n",
      "predict models [0] recycles 3 hard 1 soft 0 temp 1 loss 5.68 i_con 5.62 plddt 0.39 ptm 0.86 i_ptm 0.11\n",
      "predict models [0] recycles 3 hard 1 soft 0 temp 1 loss 5.64 i_con 5.58 plddt 0.34 ptm 0.85 i_ptm 0.14\n",
      "predict models [0] recycles 3 hard 1 soft 0 temp 1 loss 5.76 i_con 5.70 plddt 0.39 ptm 0.86 i_ptm 0.15\n",
      "predict models [0] recycles 3 hard 1 soft 0 temp 1 loss 5.76 i_con 5.70 plddt 0.38 ptm 0.85 i_ptm 0.13\n",
      "predict models [0] recycles 3 hard 1 soft 0 temp 1 loss 5.51 i_con 5.45 plddt 0.37 ptm 0.86 i_ptm 0.16\n",
      "predict models [0] recycles 3 hard 1 soft 0 temp 1 loss 5.59 i_con 5.53 plddt 0.39 ptm 0.85 i_ptm 0.14\n",
      "predict models [0] recycles 3 hard 1 soft 0 temp 1 loss 6.65 i_con 6.60 plddt 0.49 ptm 0.86 i_ptm 0.10\n",
      "predict models [0] recycles 3 hard 1 soft 0 temp 1 loss 5.62 i_con 5.56 plddt 0.45 ptm 0.85 i_ptm 0.15\n",
      "5/100, 0.0001, 1.3468900760926772e-05, tensor([-0.0930,  0.0084,  0.2951, -0.1232, -1.4274, -0.3268,  0.2006,  0.1362,\n",
      "        -0.0225, -0.9831]), [13.487488906390249, 11.865191359603097, 7.277684590582364, 13.97171016733456, 34.83776531294739, 17.228294924338858, 8.791035888904107, 9.82002871686229, 12.36056734134805, 27.729165530177788], ['LIGGWLIMLMGEELHDGIHS', 'QKFIDSGPMMLLEGMQGIKT', 'KKMGSMMNLLMIIMEPEIID', 'IFFIEHHMLIKHGHLTFGII', 'LLHSNPMQEGFFLSQHLIGL', 'FKKCEPHETPHERFISSIFC', 'LFKSTPISKTGCNCLDQGGG', 'CIFIHDLKKHHSIGLHMGMI', 'KKKLGCHTHIGFGHEHKIKG', 'LTFLHHLQRMHHRHLTIIFG']\n",
      "predict models [0] recycles 3 hard 1 soft 0 temp 1 loss 5.69 i_con 5.63 plddt 0.39 ptm 0.86 i_ptm 0.16\n",
      "predict models [0] recycles 3 hard 1 soft 0 temp 1 loss 6.15 i_con 6.09 plddt 0.43 ptm 0.85 i_ptm 0.13\n",
      "predict models [0] recycles 3 hard 1 soft 0 temp 1 loss 6.17 i_con 6.11 plddt 0.40 ptm 0.86 i_ptm 0.13\n",
      "predict models [0] recycles 3 hard 1 soft 0 temp 1 loss 5.64 i_con 5.57 plddt 0.35 ptm 0.85 i_ptm 0.15\n",
      "predict models [0] recycles 3 hard 1 soft 0 temp 1 loss 6.60 i_con 6.55 plddt 0.51 ptm 0.86 i_ptm 0.10\n",
      "predict models [0] recycles 3 hard 1 soft 0 temp 1 loss 5.88 i_con 5.83 plddt 0.45 ptm 0.85 i_ptm 0.14\n",
      "predict models [0] recycles 3 hard 1 soft 0 temp 1 loss 5.82 i_con 5.75 plddt 0.37 ptm 0.86 i_ptm 0.14\n",
      "predict models [0] recycles 3 hard 1 soft 0 temp 1 loss 5.88 i_con 5.81 plddt 0.36 ptm 0.85 i_ptm 0.13\n",
      "predict models [0] recycles 3 hard 1 soft 0 temp 1 loss 5.22 i_con 5.15 plddt 0.37 ptm 0.86 i_ptm 0.19\n",
      "predict models [0] recycles 3 hard 1 soft 0 temp 1 loss 5.83 i_con 5.77 plddt 0.39 ptm 0.85 i_ptm 0.14\n",
      "predict models [0] recycles 3 hard 1 soft 0 temp 1 loss 5.18 i_con 5.11 plddt 0.34 ptm 0.86 i_ptm 0.19\n"
     ]
    }
   ],
   "source": [
    "training(100, 10, 20)"
   ]
  },
  {
   "cell_type": "code",
   "execution_count": 59,
   "id": "d0299eed-03b7-4084-914c-1f83b8ead839",
   "metadata": {
    "tags": []
   },
   "outputs": [],
   "source": [
    "import pandas as pd\n",
    "import matplotlib.pyplot as plt\n",
    "\n",
    "df = pd.read_csv('Khondamir_results_min_dist_reversed.csv')\n",
    "COM = df['COM'].tolist()\n",
    "COM_rev = df['COM_reverse'].tolist()\n",
    "plddt = df['plddt_reverse'].tolist()\n",
    "epochs = [[x for i in range(10)] for x in range(36)]\n"
   ]
  },
  {
   "cell_type": "code",
   "execution_count": 58,
   "id": "cb8dc084-1e5f-436d-b631-a5bd0b17cb7f",
   "metadata": {
    "tags": []
   },
   "outputs": [
    {
     "data": {
      "text/plain": [
       "360"
      ]
     },
     "execution_count": 58,
     "metadata": {},
     "output_type": "execute_result"
    }
   ],
   "source": [
    "len(COM)"
   ]
  },
  {
   "cell_type": "code",
   "execution_count": 63,
   "id": "996ec875-7943-4995-844e-28ccff7f77f9",
   "metadata": {
    "tags": []
   },
   "outputs": [
    {
     "data": {
      "text/plain": [
       "<matplotlib.collections.PathCollection at 0x7f2fcb95a7c0>"
      ]
     },
     "execution_count": 63,
     "metadata": {},
     "output_type": "execute_result"
    },
    {
     "data": {
      "image/png": "[encoded data removed]",
      "text/plain": [
       "<Figure size 432x288 with 1 Axes>"
      ]
     },
     "metadata": {
      "needs_background": "light"
     },
     "output_type": "display_data"
    }
   ],
   "source": [
    "plt.scatter(epochs,COM_rev)\n",
    "#plt.scatter([x for x in range(100)],COM_rev)"
   ]
  },
  {
   "cell_type": "code",
   "execution_count": 64,
   "id": "1b53ef07-4acf-4d48-be4f-7859e75ffdfb",
   "metadata": {
    "tags": []
   },
   "outputs": [],
   "source": [
    "COM_split = []\n",
    "for i in range(36):\n",
    "    #COM_split.append(COM[i*10:(i+1)*10-3]+COM[(i+1)*10-2:(i+1)*10])\n",
    "    COM_split.append(COM[i*10:(i+1)*10])"
   ]
  },
  {
   "cell_type": "code",
   "execution_count": 65,
   "id": "43b46356-c56b-4974-bbed-9799350222dd",
   "metadata": {
    "tags": []
   },
   "outputs": [],
   "source": [
    "COM_split_rev = []\n",
    "for i in range(36):\n",
    "    #COM_split.append(COM[i*10:(i+1)*10-3]+COM[(i+1)*10-2:(i+1)*10])\n",
    "    COM_split_rev.append(COM_rev[i*10:(i+1)*10])"
   ]
  },
  {
   "cell_type": "code",
   "execution_count": 66,
   "id": "a3f81364-871d-41c4-b8f9-8c33eb16a201",
   "metadata": {
    "tags": []
   },
   "outputs": [],
   "source": [
    "import numpy as np\n",
    "COM_split_np = np.array(COM_split)"
   ]
  },
  {
   "cell_type": "code",
   "execution_count": 67,
   "id": "c1ccccc3-e534-4ae5-854e-35fd819d7041",
   "metadata": {
    "tags": []
   },
   "outputs": [],
   "source": [
    "COM_split_rev_np = np.array(COM_split_rev)"
   ]
  },
  {
   "cell_type": "code",
   "execution_count": 68,
   "id": "443c2a84-aadf-4df9-ab3a-37e3e0b189d3",
   "metadata": {
    "tags": []
   },
   "outputs": [
    {
     "data": {
      "text/plain": [
       "(36,)"
      ]
     },
     "execution_count": 68,
     "metadata": {},
     "output_type": "execute_result"
    }
   ],
   "source": [
    "COM_line = np.mean(COM_split_np, axis=1)\n",
    "COM_line.shape"
   ]
  },
  {
   "cell_type": "code",
   "execution_count": 69,
   "id": "29791c10-a434-4379-a0ed-a902052f13c8",
   "metadata": {
    "tags": []
   },
   "outputs": [
    {
     "data": {
      "text/plain": [
       "(36,)"
      ]
     },
     "execution_count": 69,
     "metadata": {},
     "output_type": "execute_result"
    }
   ],
   "source": [
    "COM_line_rev = np.mean(COM_split_rev_np, axis=1)\n",
    "COM_line_rev.shape"
   ]
  },
  {
   "cell_type": "code",
   "execution_count": 262,
   "id": "789d0e3e-201b-4471-a767-8d0a87a3b9e1",
   "metadata": {
    "tags": []
   },
   "outputs": [
    {
     "data": {
      "text/plain": [
       "[98, 99, 99, 99, 99, 99, 99, 99, 99, 99]"
      ]
     },
     "execution_count": 262,
     "metadata": {},
     "output_type": "execute_result"
    }
   ],
   "source": [
    "epochs_cor[-10:]"
   ]
  },
  {
   "cell_type": "code",
   "execution_count": 274,
   "id": "d72d4a3a-9b6f-43da-a60b-8a5c5bc5fd20",
   "metadata": {
    "tags": []
   },
   "outputs": [],
   "source": [
    "epochs = [x for x in range(100)]"
   ]
  },
  {
   "cell_type": "code",
   "execution_count": 240,
   "id": "62f9d58c-9bfa-4c9f-ba9d-355dda58d746",
   "metadata": {
    "tags": []
   },
   "outputs": [
    {
     "data": {
      "text/plain": [
       "900"
      ]
     },
     "execution_count": 240,
     "metadata": {},
     "output_type": "execute_result"
    }
   ],
   "source": [
    "len(epochs_cor)"
   ]
  },
  {
   "cell_type": "code",
   "execution_count": 296,
   "id": "d1e20bbf-a0f3-45fa-819b-d9c66853be69",
   "metadata": {
    "tags": []
   },
   "outputs": [],
   "source": [
    "epochs_cor = []\n",
    "for i in range(100):\n",
    "    epochs_cor+=epochs[i]"
   ]
  },
  {
   "cell_type": "code",
   "execution_count": 13,
   "id": "83218c73-5a16-4961-894f-33c2f18d3779",
   "metadata": {
    "tags": []
   },
   "outputs": [],
   "source": [
    "COM_split = np.array(COM_split)\n",
    "COM_line = COM_line"
   ]
  },
  {
   "cell_type": "code",
   "execution_count": 70,
   "id": "4c75279d-7f55-4f6b-ac61-661170fea0c1",
   "metadata": {
    "tags": []
   },
   "outputs": [
    {
     "data": {
      "image/png": "[encoded data removed]",
      "text/plain": [
       "<Figure size 432x288 with 1 Axes>"
      ]
     },
     "metadata": {
      "needs_background": "light"
     },
     "output_type": "display_data"
    }
   ],
   "source": [
    "epochs_line = [x for x in range(36)]\n",
    "\n",
    "plt.scatter(epochs, COM, alpha=0.1)\n",
    "plt.plot(epochs_line, COM_line, linewidth=4)\n",
    "plt.title('AMPAR LBD binder design', fontsize=20)\n",
    "plt.xlabel('Epochs', fontsize=14)\n",
    "plt.ylabel('COM distance (nm)', fontsize=14)\n",
    "plt.xticks(fontsize=12)\n",
    "plt.yticks(fontsize=12)\n",
    "plt.savefig('figs/AMPAR_LBD_5ybf_COM_change_100_10.jpg', dpi=800)\n",
    "plt.show()"
   ]
  },
  {
   "cell_type": "code",
   "execution_count": 83,
   "id": "456be8ee-3c81-450e-a405-105042d7a63f",
   "metadata": {
    "tags": []
   },
   "outputs": [
    {
     "data": {
      "image/png": "[encoded data removed]",
      "text/plain": [
       "<Figure size 432x288 with 1 Axes>"
      ]
     },
     "metadata": {
      "needs_background": "light"
     },
     "output_type": "display_data"
    }
   ],
   "source": [
    "epochs_line = [x for x in range(36)]\n",
    "\n",
    "plt.scatter(epochs, COM, alpha=0.1)\n",
    "plt.plot(epochs_line, COM_line, linewidth=4, label='AMPA')\n",
    "plt.scatter(epochs, COM_rev, alpha=0.1, c='r')\n",
    "plt.plot(epochs_line, COM_line_rev, linewidth=4, c='r', label='NMDA')\n",
    "plt.title('AMPAR LBD vs NMDAR LBD\\n binder design', fontsize=20)\n",
    "plt.legend()\n",
    "plt.xlabel('Epochs', fontsize=14)\n",
    "plt.ylabel('COM distance (nm)', fontsize=14)\n",
    "plt.xticks(fontsize=12)\n",
    "plt.yticks(fontsize=12)\n",
    "plt.ylim((4,50))\n",
    "\n",
    "plt.savefig('figs/AMPAR_LBD_5ybf_COM_change_100_10.jpg', dpi=800)\n",
    "plt.show()"
   ]
  },
  {
   "cell_type": "code",
   "execution_count": 85,
   "id": "0b73080a-7d81-4429-835a-d53ce6d10003",
   "metadata": {
    "tags": []
   },
   "outputs": [
    {
     "data": {
      "text/plain": [
       "['AVVAVARVYAAVRAAAAARV',\n",
       " 'RAAARVRAVARVRAVAVVAV',\n",
       " 'VAVVRAAVVVRARARARVAV',\n",
       " 'AAAVAAVVRARARAAAAVAA',\n",
       " 'AAAVAAAAAVRAAAVAAVRA',\n",
       " 'VARVAARAVARVRAAAAAVV',\n",
       " 'VYAVVAVVRAAARARAAAAV',\n",
       " 'AVAAAAAAVVRAYARVRVAV',\n",
       " 'RRRVVVVVVARARRAAAVAV',\n",
       " 'RYRARAVVRVRVRAAAAVAV']"
      ]
     },
     "execution_count": 85,
     "metadata": {},
     "output_type": "execute_result"
    }
   ],
   "source": [
    "df['sequence'].tolist()[-10:]"
   ]
  },
  {
   "cell_type": "code",
   "execution_count": 73,
   "id": "10d26023-065d-4b26-8577-a198b35a09d0",
   "metadata": {
    "tags": []
   },
   "outputs": [
    {
     "ename": "NameError",
     "evalue": "name 'G_losses' is not defined",
     "output_type": "error",
     "traceback": [
      "\u001b[0;31m---------------------------------------------------------------------------\u001b[0m",
      "\u001b[0;31mNameError\u001b[0m                                 Traceback (most recent call last)",
      "Cell \u001b[0;32mIn[73], line 1\u001b[0m\n\u001b[0;32m----> 1\u001b[0m plt\u001b[38;5;241m.\u001b[39mplot(\u001b[43mG_losses\u001b[49m)\n",
      "\u001b[0;31mNameError\u001b[0m: name 'G_losses' is not defined"
     ]
    }
   ],
   "source": [
    "plt.plot(G_losses)"
   ]
  },
  {
   "cell_type": "code",
   "execution_count": 27,
   "id": "20f396ad-1d8c-474f-854c-1e5bb205fc42",
   "metadata": {
    "tags": []
   },
   "outputs": [
    {
     "data": {
      "text/plain": [
       "[<matplotlib.lines.Line2D at 0x7f3c8b213bb0>]"
      ]
     },
     "execution_count": 27,
     "metadata": {},
     "output_type": "execute_result"
    },
    {
     "data": {
      "image/png": "[encoded data removed]",
      "text/plain": [
       "<Figure size 432x288 with 1 Axes>"
      ]
     },
     "metadata": {
      "needs_background": "light"
     },
     "output_type": "display_data"
    }
   ],
   "source": [
    "plt.plot(np.mean((np.array(COM_split_rev)-np.array(COM_split)), axis=1))\n"
   ]
  },
  {
   "cell_type": "code",
   "execution_count": 53,
   "id": "9dbb4d5c-4f1c-4029-9ccf-6ba19c08e81b",
   "metadata": {
    "tags": []
   },
   "outputs": [
    {
     "data": {
      "text/plain": [
       "<matplotlib.collections.PathCollection at 0x7fd24a619be0>"
      ]
     },
     "execution_count": 53,
     "metadata": {},
     "output_type": "execute_result"
    },
    {
     "data": {
      "image/png": "[encoded data removed]",
      "text/plain": [
       "<Figure size 432x288 with 1 Axes>"
      ]
     },
     "metadata": {
      "needs_background": "light"
     },
     "output_type": "display_data"
    }
   ],
   "source": [
    "import matplotlib.pyplot as plt\n",
    "\n",
    "plt.scatter(epochs, COM)"
   ]
  },
  {
   "cell_type": "code",
   "execution_count": null,
   "id": "86d4bd3f-5c9f-4db7-9821-fbdc58a2653f",
   "metadata": {
    "tags": []
   },
   "outputs": [],
   "source": [
    "list(netG.parameters())"
   ]
  },
  {
   "cell_type": "code",
   "execution_count": 131,
   "id": "bf3bba3d-d6bb-43ae-a95e-f3502bce461e",
   "metadata": {
    "tags": []
   },
   "outputs": [
    {
     "name": "stdout",
     "output_type": "stream",
     "text": [
      "tensor([-0.0024, -0.0072,  0.0241], device='cuda:0', grad_fn=<SelectBackward0>)\n",
      "tensor([-0.0029, -0.0079,  0.0235], device='cuda:0', grad_fn=<SelectBackward0>)\n"
     ]
    }
   ],
   "source": [
    "fake_input = torch.randn(3, nz, 1, 1, device=device)\n",
    "fake = netG(fake_input)\n",
    "\n",
    "before = list(netG.parameters())\n",
    "\n",
    "errG = criterion(torch.tensor([0.,1.]), torch.tensor([33., 0.98])).requires_grad_(True)\n",
    "        # Calculate gradients for G\n",
    "\n",
    "print(list(netG.parameters())[-2][0,0,0])\n",
    "\n",
    "errF = criterion(torch.ones(fake.shape).to(device)*errG, fake)\n",
    "errF.backward()\n",
    "optimizerG.step()\n",
    "\n",
    "#list(netG.parameters())[-2].grad = list(netG.parameters())[-2].data*0.1\n",
    "#print(list(netG.parameters())[-2].grad[0,0,0])\n",
    "#optimizerG.step()\n",
    "print(list(netG.parameters())[-2][0,0,0])\n",
    "\n",
    "    \n"
   ]
  },
  {
   "cell_type": "code",
   "execution_count": 163,
   "id": "177852a9-9722-42f6-a2fb-787b4914c4f1",
   "metadata": {
    "tags": []
   },
   "outputs": [
    {
     "name": "stdout",
     "output_type": "stream",
     "text": [
      "torch.Size([100, 512, 5, 5])\n",
      "torch.Size([512, 256, 5, 5])\n",
      "torch.Size([256, 128, 4, 3])\n",
      "torch.Size([128, 64, 4, 3])\n",
      "torch.Size([64, 1, 4, 3])\n"
     ]
    }
   ],
   "source": [
    "for i in list(netG.parameters()):\n",
    "    print(i.shape)"
   ]
  },
  {
   "cell_type": "code",
   "execution_count": 198,
   "id": "f60b12ea-5c8d-4fff-bc53-0fe02cd26a9a",
   "metadata": {
    "tags": []
   },
   "outputs": [
    {
     "name": "stdout",
     "output_type": "stream",
     "text": [
      "0.40192994\n"
     ]
    }
   ],
   "source": [
    "with open('results/tmp_0_0.pickle', 'rb') as f:\n",
    "    x = pickle.load(f)\n",
    "print(np.mean(x['plddt'][0][-20:]))"
   ]
  },
  {
   "cell_type": "code",
   "execution_count": 332,
   "id": "1d0e395f-5a17-497a-99f1-5834c12bd17e",
   "metadata": {
    "tags": []
   },
   "outputs": [],
   "source": [
    "with open('results/tmp_0_2_model_0_rank_1.pdb') as ifile:\n",
    "      system = \"\".join([x for x in ifile])\n",
    "system1 = system.split(\"\\n\")\n",
    "system2 = []\n",
    "for x in system1:\n",
    "    if x[:4] == 'ATOM':\n",
    "      system2.append(x)\n",
    "CAS = [x for x in system2 if \"CA\" in x]\n",
    "CAS = [x.split(' ') for x in CAS]\n",
    "CAS = [[x for x in y if x!=''] for y in CAS ]\n",
    "CAS_A = [x for x in CAS if x[4]=='B']\n",
    "CAS_B = [x for x in CAS if x[4]=='A']\n",
    "numbers_a = [13, 14, 21, 175, 179, 196, 200]\n",
    "\n",
    "CAS_A = np.array([np.array([float(x[6]), float(x[7]), float(x[8])]) for x in CAS_A])\n",
    "\n",
    "CAS_B = np.array([np.array([float(x[6]), float(x[7]), float(x[8])]) for x in CAS_B])\n",
    "\n",
    "CAS_B = np.array([CAS_B[i-1] for i in numbers_a])\n",
    "\n",
    "receptor_center = (sum([i for i in CAS_B]))/CAS_B.shape[0]\n",
    "peptide_center = (sum([i for i in CAS_A]))/CAS_A.shape[0]\n",
    "loss = sqrt(np.sum((peptide_center-receptor_center)**2))\n"
   ]
  },
  {
   "cell_type": "code",
   "execution_count": 333,
   "id": "70931362-5741-4b9f-a58b-3283be3732c3",
   "metadata": {
    "tags": []
   },
   "outputs": [
    {
     "data": {
      "text/plain": [
       "array([[ 45.023, -19.187,  14.722],\n",
       "       [ 42.318, -17.704,  16.715],\n",
       "       [ 38.758, -18.582,  16.949],\n",
       "       [ 35.857, -17.549,  18.449],\n",
       "       [ 32.376, -17.406,  18.984],\n",
       "       [ 28.635, -17.701,  18.887],\n",
       "       [ 25.117, -18.112,  17.498],\n",
       "       [ 22.266, -16.529,  19.454],\n",
       "       [ 18.762, -18.25 ,  18.918],\n",
       "       [ 16.086, -16.   ,  20.331],\n",
       "       [ 12.795, -17.855,  20.324],\n",
       "       [ 10.525, -15.683,  22.387],\n",
       "       [  7.197, -14.037,  22.524],\n",
       "       [  3.644, -14.922,  21.757],\n",
       "       [  1.699, -12.002,  22.602],\n",
       "       [ -1.306, -13.569,  24.452],\n",
       "       [ -4.243, -11.723,  25.548],\n",
       "       [ -7.805, -10.588,  25.042],\n",
       "       [ -9.137,  -7.759,  27.115],\n",
       "       [-12.591,  -6.354,  26.869]])"
      ]
     },
     "execution_count": 333,
     "metadata": {},
     "output_type": "execute_result"
    }
   ],
   "source": [
    "CAS_A"
   ]
  },
  {
   "cell_type": "code",
   "execution_count": 334,
   "id": "e2a68fe3-f788-47ed-b481-40eb4c7d32ae",
   "metadata": {
    "tags": []
   },
   "outputs": [
    {
     "data": {
      "text/plain": [
       "array([[  2.588,  -1.146,   6.838],\n",
       "       [  6.19 ,  -2.204,   6.27 ],\n",
       "       [ 12.295,  -0.394,  18.021],\n",
       "       [  1.087, -10.858,   6.437],\n",
       "       [  2.412, -16.704,   5.415],\n",
       "       [  5.076,  -5.088,  -1.531],\n",
       "       [  8.901,  -9.209,   0.792]])"
      ]
     },
     "execution_count": 334,
     "metadata": {},
     "output_type": "execute_result"
    }
   ],
   "source": [
    "CAS_B"
   ]
  },
  {
   "cell_type": "code",
   "execution_count": 339,
   "id": "e9840cf7-34b0-49cd-97ca-e3fc3d8103f5",
   "metadata": {
    "tags": []
   },
   "outputs": [
    {
     "data": {
      "text/plain": [
       "15.244607636800627"
      ]
     },
     "execution_count": 339,
     "metadata": {},
     "output_type": "execute_result"
    }
   ],
   "source": [
    "from scipy.spatial import distance_matrix\n",
    "\n",
    "np.min(distance_matrix(CAS_A, CAS_B))"
   ]
  },
  {
   "cell_type": "code",
   "execution_count": 336,
   "id": "f0c22888-334e-42f5-8342-bad8a469251f",
   "metadata": {
    "tags": []
   },
   "outputs": [
    {
     "data": {
      "text/plain": [
       "array([ 5.507     , -6.51471429,  6.03457143])"
      ]
     },
     "execution_count": 336,
     "metadata": {},
     "output_type": "execute_result"
    }
   ],
   "source": [
    "receptor_center"
   ]
  },
  {
   "cell_type": "code",
   "execution_count": 335,
   "id": "7e4f7324-6739-4efd-bfaa-3a2ec8f4bd18",
   "metadata": {
    "tags": []
   },
   "outputs": [
    {
     "data": {
      "text/plain": [
       "array([ 15.2988 , -15.0756 ,  20.97635])"
      ]
     },
     "execution_count": 335,
     "metadata": {},
     "output_type": "execute_result"
    }
   ],
   "source": [
    "peptide_center"
   ]
  }
 ],
 "metadata": {
  "kernelspec": {
   "display_name": "Python 3",
   "language": "python",
   "name": "python3"
  },
  "language_info": {
   "codemirror_mode": {
    "name": "ipython",
    "version": 3
   },
   "file_extension": ".py",
   "mimetype": "text/x-python",
   "name": "python",
   "nbconvert_exporter": "python",
   "pygments_lexer": "ipython3",
   "version": "3.9.7"
  }
 },
 "nbformat": 4,
 "nbformat_minor": 5
}
