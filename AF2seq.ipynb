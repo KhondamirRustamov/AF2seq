{
  "nbformat": 4,
  "nbformat_minor": 0,
  "metadata": {
    "colab": {
      "provenance": [],
      "gpuType": "T4",
      "authorship_tag": "ABX9TyOVGlXFccjj0Vj/y+VaRlh0",
      "include_colab_link": true
    },
    "kernelspec": {
      "name": "python3",
      "display_name": "Python 3"
    },
    "language_info": {
      "name": "python"
    },
    "accelerator": "GPU"
  },
  "cells": [
    {
      "cell_type": "markdown",
      "metadata": {
        "id": "view-in-github",
        "colab_type": "text"
      },
      "source": [
        "<a href=\"https://colab.research.google.com/github/KhondamirRustamov/AF2seq/blob/main/AF2seq.ipynb\" target=\"_parent\"><img src=\"https://colab.research.google.com/assets/colab-badge.svg\" alt=\"Open In Colab\"/></a>"
      ]
    },
    {
      "cell_type": "code",
      "execution_count": null,
      "metadata": {
        "cellView": "form",
        "id": "3IZXS8gdDuA4"
      },
      "outputs": [],
      "source": [
        "#@title setup\n",
        "%%time\n",
        "import os\n",
        "if not os.path.isdir(\"params\"):\n",
        "  # get code\n",
        "  os.system(\"pip -q install git+https://github.com/sokrypton/ColabDesign.git@v1.1.1\")\n",
        "  # for debugging\n",
        "  os.system(\"ln -s /usr/local/lib/python3.*/dist-packages/colabdesign colabdesign\")\n",
        "  # download params\n",
        "  os.system(\"mkdir params\")\n",
        "  os.system(\"apt-get install aria2 -qq\")\n",
        "  os.system(\"aria2c -q -x 16 https://storage.googleapis.com/alphafold/alphafold_params_2022-12-06.tar\")\n",
        "  os.system(\"tar -xf alphafold_params_2022-12-06.tar -C params\")\n",
        "\n",
        "import warnings\n",
        "warnings.simplefilter(action='ignore', category=FutureWarning)\n",
        "\n",
        "import os\n",
        "from colabdesign import mk_afdesign_model, clear_mem\n",
        "from IPython.display import HTML\n",
        "from google.colab import files\n",
        "import numpy as np\n",
        "\n",
        "def get_pdb(pdb_code=\"\"):\n",
        "  if pdb_code is None or pdb_code == \"\":\n",
        "    upload_dict = files.upload()\n",
        "    pdb_string = upload_dict[list(upload_dict.keys())[0]]\n",
        "    with open(\"tmp.pdb\",\"wb\") as out: out.write(pdb_string)\n",
        "    return \"tmp.pdb\"\n",
        "  elif os.path.isfile(pdb_code):\n",
        "    return pdb_code\n",
        "  elif len(pdb_code) == 4:\n",
        "    os.system(f\"wget -qnc https://files.rcsb.org/view/{pdb_code}.pdb\")\n",
        "    return f\"{pdb_code}.pdb\"\n",
        "  else:\n",
        "    os.system(f\"wget -qnc https://alphafold.ebi.ac.uk/files/AF-{pdb_code}-F1-model_v3.pdb\")\n",
        "    return f\"AF-{pdb_code}-F1-model_v3.pdb\""
      ]
    },
    {
      "cell_type": "code",
      "source": [
        "import pickle\n",
        "from google.colab import files\n",
        "import os\n",
        "\n",
        "pbd_name = '3vga.pdb' #@param {type:\"string\"}\n",
        "chains = 'A' #@param {type:\"string\"}\n",
        "hotspots = '1,2,3,4,5,6,7,8' #@param {type:\"string\"}\n",
        "length = 20 #@param {type:\"integer\"}\n",
        "number_of_seqs = 1 #@param {type:\"integer\"}\n",
        "\n",
        "results_dic = 'results' #@param {type:\"string\"}\n",
        "\n",
        "for i in range(number_of_seqs):\n",
        "    print(f'Start {i}')\n",
        "    clear_mem()\n",
        "    af_model = mk_afdesign_model(protocol=\"binder\", use_templates=True)\n",
        "    af_model.prep_inputs(pdb_filename=pbd_name, chain=chains, binder_len=length, rm_aa='C', hotspot=hotspots)\n",
        "\n",
        "    af_model.set_opt(\"con\",num=2)\n",
        "    af_model.set_opt(\"i_con\",num=1)\n",
        "    af_model.opt[\"weights\"][\"plddt\"] = 0.1\n",
        "    af_model.opt[\"weights\"][\"fape\"] = 1.0\n",
        "\n",
        "    af_model.design_3stage(100,100,10)\n",
        "\n",
        "    #af_model.opt[\"weights\"][\"fape\"] = 1.0\n",
        "    #af_model.opt[\"weights\"][\"dgram_cce\"] = 0.0\n",
        "\n",
        "    #af_model.design_semigreedy(20, tries=20, models=[0,1], num_models=2)\n",
        "\n",
        "    best_d = af_model._tmp['best']['aux']\n",
        "\n",
        "    with open(f'{results_dic}/traj_{i}.pickle', 'wb') as handle:\n",
        "        pickle.dump(best_d, handle, protocol=pickle.HIGHEST_PROTOCOL)\n",
        "\n",
        "    af_model.save_pdb(f\"{results_dic}/{af_model.protocol}_{i}.pdb\")\n",
        "    print(f'Finish {i}')\n",
        "\n",
        "\n",
        "\n",
        "results_zip = f\"{results_dic}.zip\"\n",
        "os.system(f\"zip -r {results_zip} {results_dic}\")\n",
        "files.download(f\"{results_zip}\")"
      ],
      "metadata": {
        "cellView": "form",
        "id": "yTJv8SMNDx2F"
      },
      "execution_count": null,
      "outputs": []
    },
    {
      "cell_type": "code",
      "source": [
        "#@title plot\n",
        "af_model.plot_pdb()"
      ],
      "metadata": {
        "cellView": "form",
        "id": "QBLhLqYmFey1"
      },
      "execution_count": null,
      "outputs": []
    },
    {
      "cell_type": "code",
      "source": [
        "#@title animate\n",
        "HTML(af_model.animate())"
      ],
      "metadata": {
        "cellView": "form",
        "id": "FJ-5ebRiFij0"
      },
      "execution_count": null,
      "outputs": []
    },
    {
      "cell_type": "code",
      "source": [
        "#@title get sequences\n",
        "af_model.get_seqs()"
      ],
      "metadata": {
        "cellView": "form",
        "id": "lHAfAjaSFlkN"
      },
      "execution_count": null,
      "outputs": []
    },
    {
      "cell_type": "code",
      "source": [
        "#@title Package and download results.\n",
        "from google.colab import files\n",
        "import os\n",
        "\n",
        "results_zip = f\"{results_dic}.zip\"\n",
        "os.system(f\"zip -r {results_zip} {results_dic}\")\n",
        "files.download(f\"{results_zip}\")"
      ],
      "metadata": {
        "colab": {
          "base_uri": "https://localhost:8080/",
          "height": 17
        },
        "id": "wBqBjaiCFgQS",
        "outputId": "84104d4f-9299-4ea2-adce-b5ac64f42b84"
      },
      "execution_count": null,
      "outputs": [
        {
          "output_type": "display_data",
          "data": {
            "text/plain": [
              "<IPython.core.display.Javascript object>"
            ],
            "application/javascript": [
              "\n",
              "    async function download(id, filename, size) {\n",
              "      if (!google.colab.kernel.accessAllowed) {\n",
              "        return;\n",
              "      }\n",
              "      const div = document.createElement('div');\n",
              "      const label = document.createElement('label');\n",
              "      label.textContent = `Downloading \"${filename}\": `;\n",
              "      div.appendChild(label);\n",
              "      const progress = document.createElement('progress');\n",
              "      progress.max = size;\n",
              "      div.appendChild(progress);\n",
              "      document.body.appendChild(div);\n",
              "\n",
              "      const buffers = [];\n",
              "      let downloaded = 0;\n",
              "\n",
              "      const channel = await google.colab.kernel.comms.open(id);\n",
              "      // Send a message to notify the kernel that we're ready.\n",
              "      channel.send({})\n",
              "\n",
              "      for await (const message of channel.messages) {\n",
              "        // Send a message to notify the kernel that we're ready.\n",
              "        channel.send({})\n",
              "        if (message.buffers) {\n",
              "          for (const buffer of message.buffers) {\n",
              "            buffers.push(buffer);\n",
              "            downloaded += buffer.byteLength;\n",
              "            progress.value = downloaded;\n",
              "          }\n",
              "        }\n",
              "      }\n",
              "      const blob = new Blob(buffers, {type: 'application/binary'});\n",
              "      const a = document.createElement('a');\n",
              "      a.href = window.URL.createObjectURL(blob);\n",
              "      a.download = filename;\n",
              "      div.appendChild(a);\n",
              "      a.click();\n",
              "      div.remove();\n",
              "    }\n",
              "  "
            ]
          },
          "metadata": {}
        },
        {
          "output_type": "display_data",
          "data": {
            "text/plain": [
              "<IPython.core.display.Javascript object>"
            ],
            "application/javascript": [
              "download(\"download_071238a1-cfa1-4f19-acaa-526ad1a95802\", \"results.zip\", 494)"
            ]
          },
          "metadata": {}
        }
      ]
    }
  ]
}